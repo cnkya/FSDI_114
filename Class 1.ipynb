{
 "cells": [
  {
   "cell_type": "code",
   "execution_count": 1,
   "id": "6325c0de-c34d-40dc-b879-5e6fb9151717",
   "metadata": {},
   "outputs": [
    {
     "name": "stdout",
     "output_type": "stream",
     "text": [
      "h\n",
      "e\n",
      "l\n",
      "l\n",
      "o\n",
      ",\n",
      " \n",
      "w\n",
      "o\n",
      "r\n",
      "l\n",
      "d\n"
     ]
    }
   ],
   "source": [
    "for char in \"hello, world\":\n",
    "    print(char)\n",
    "    #press shift + enter"
   ]
  },
  {
   "cell_type": "markdown",
   "id": "ec76e115-4336-4780-a3cb-4ff22b6311e3",
   "metadata": {},
   "source": [
    "# Problem 1\n",
    "\n",
    "## Anagram Check\n",
    "\n",
    "Given two strings as parameters, define a function (anagram_check) that returns True if these are anagrams of each other, False otherwise.\n",
    "\n",
    "### Criteria\n",
    "Two strings are anagrams of each other if *all* the criteria below are met:\n",
    "1. The must be of equal length (in number of letters).\n",
    "2. They must use the same letters the same about of times.\n",
    "\n",
    "   \n",
    "## Examples\n",
    "```\n",
    "heart and earth\n",
    "cars and scar\n",
    "star and rats\n",
    "```"
   ]
  },
  {
   "cell_type": "code",
   "execution_count": 2,
   "id": "74675595-5faa-497f-9705-fae49ac30e08",
   "metadata": {},
   "outputs": [],
   "source": [
    "# In the popular Harry Potter saga the villain's name \"Voldermort\" is chosen because it is an anagram of his origianl human name. This is based on the pharases: \"I am Lord Voldemort\" and \"Tom Marvolo Riddle\"\n"
   ]
  },
  {
   "cell_type": "code",
   "execution_count": 1,
   "id": "f662b4a4-8680-4369-9930-05b5c6aad464",
   "metadata": {},
   "outputs": [],
   "source": [
    "#A poor solution\n",
    "def anagram_check(string1, string2):\n",
    "    return sorted(string1) == sorted(string2)"
   ]
  },
  {
   "cell_type": "code",
   "execution_count": 2,
   "id": "506e10bf-53af-409a-a2f7-5572465f5dec",
   "metadata": {
    "scrolled": true
   },
   "outputs": [
    {
     "data": {
      "text/plain": [
       "False"
      ]
     },
     "execution_count": 2,
     "metadata": {},
     "output_type": "execute_result"
    }
   ],
   "source": [
    "anagram_check(\"I am Lord Voldermort\", \"Tom Marvolo Riddle\")"
   ]
  },
  {
   "cell_type": "code",
   "execution_count": 6,
   "id": "8e7a397a-632c-4220-ad56-dead72766d18",
   "metadata": {},
   "outputs": [],
   "source": [
    "# define my function \"anagram_check\" which receives string1 of type string and strin2 of type string:\n",
    "#    string1 = string1 without spaces\n",
    "#    string2 = string2 without spaces\n",
    "#    string2 = string2 in lower case\n",
    "#    string1 = string1 in lower case\n",
    "#    if the length of string1 and the lenght of string2 are not equal: \n",
    "#        return False\n",
    "#    dicti_a = new Dictionary\n",
    "#    dicti_b = new Dictionary\n",
    "#     for number in the range between 0 and the length of string1:\n",
    "#            if the character at position 'number' in string1 is in dicti_a:\n",
    "                 # add 1 to the value associated with that character\n",
    "#             otherwise:\n",
    "#                create a key in dicti_a for the characte with its value set to 1\n",
    "#             otherwise:\n",
    "#                create a key in dicti_b for the characte withits value set to 1\n",
    "#     if dicti_a is equal to dicti_b\n",
    "#        return True\n",
    "#     otherwise:\n",
    "#        return False"
   ]
  },
  {
   "cell_type": "code",
   "execution_count": 26,
   "id": "df1ad690-3857-46f9-bb12-db4b808e6278",
   "metadata": {},
   "outputs": [],
   "source": [
    "\n",
    "def anagram_check(string1, string2):\n",
    "    string1 = string1.replace(\" \",\"\").lower()\n",
    "    string2 = string2.replace(\" \",\"\").lower()\n",
    "    if len(string1) != len(string2):\n",
    "        return False\n",
    "\n",
    "    dicti_a = {}\n",
    "    dicti_b = {}\n",
    "\n",
    "    for x in range(len(string1)):\n",
    "        if string1[x] in dicti_a:\n",
    "            dicti_a[string1[x]] += 1\n",
    "        else:\n",
    "            dicti_a[string1[x]] = 1\n",
    "\n",
    "    \n",
    "        if string2[x] in dicti_b:\n",
    "            dicti_b[string2[x]] += 1\n",
    "        else:\n",
    "            dicti_b[string2[x]] = 1\n",
    "\n",
    "\n",
    "    return dicti_a == dicti_b  \n",
    "            \n",
    "            \n",
    "            \n",
    "        \n",
    "    "
   ]
  },
  {
   "cell_type": "code",
   "execution_count": 28,
   "id": "03db965e-d38a-46ff-8a0f-9304babc4c27",
   "metadata": {},
   "outputs": [
    {
     "data": {
      "text/plain": [
       "False"
      ]
     },
     "execution_count": 28,
     "metadata": {},
     "output_type": "execute_result"
    }
   ],
   "source": [
    "anagram_check(\"carss\", \"scar\")"
   ]
  },
  {
   "cell_type": "code",
   "execution_count": null,
   "id": "bd9f7dd8-4f9e-4466-82a0-0bb53d133283",
   "metadata": {},
   "outputs": [],
   "source": []
  }
 ],
 "metadata": {
  "kernelspec": {
   "display_name": "Python 3 (ipykernel)",
   "language": "python",
   "name": "python3"
  },
  "language_info": {
   "codemirror_mode": {
    "name": "ipython",
    "version": 3
   },
   "file_extension": ".py",
   "mimetype": "text/x-python",
   "name": "python",
   "nbconvert_exporter": "python",
   "pygments_lexer": "ipython3",
   "version": "3.10.12"
  }
 },
 "nbformat": 4,
 "nbformat_minor": 5
}
