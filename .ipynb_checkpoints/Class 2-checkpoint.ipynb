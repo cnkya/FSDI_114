{
 "cells": [
  {
   "cell_type": "code",
   "execution_count": 2,
   "id": "c10c81b8-a0c2-4103-a5ad-b7769dbcac6f",
   "metadata": {},
   "outputs": [],
   "source": [
    "# Simplified implentation of stack (relying on buit-ins)\n",
    "\n",
    "class Stack:\n",
    "\n",
    "    def __init__(self):\n",
    "        self.items =[]\n",
    "\n",
    "    def push(self, element):\n",
    "        self.items.append(element)\n",
    "        \n",
    "    def pop(self):\n",
    "        return self.items.pop()\n",
    "\n",
    "    # nice to have methods\n",
    "    def peek(self):\n",
    "        return self.items[len(self.items)-1]\n",
    "\n",
    "    def size(self):\n",
    "        return len(self.items)\n",
    "\n",
    "    def is_empty(self):\n",
    "        return self.items ==[]\n"
   ]
  },
  {
   "cell_type": "markdown",
   "id": "f6e357b1-0963-4717-81ac-1f5ccc7b0aa7",
   "metadata": {},
   "source": [
    "# Problem 1\n",
    "\n",
    "## Inverting strings\n",
    "Create a function that *must* use the 'Stack' class above to invert a string.\n",
    "\n",
    "In general, your functions flow should follow these steps:\n",
    "1. Your function should recieve a string as a parameter\n",
    "2. Create an instance of 'stack'\n",
    "3. Push all the elements in the string onto your stack (via looping and calling the push method)\n",
    "4. Create an empty string.\n",
    "5. Loop until the stack is empty, calling pop on your instace of 'Stack' and feeding the popped element to your out put string.\n",
    "6. Return the output string once the stack is empty (hint: consider the 'is_empty' method)\n",
    "\n",
    "\n",
    "### Examples\n",
    "```\n",
    "rafael -> leafar\n",
    "car -> srac\n",
    "hello _> olleh\n",
    "```"
   ]
  },
  {
   "cell_type": "code",
   "execution_count": 4,
   "id": "9f832650-ef81-4294-8629-9b9242db8942",
   "metadata": {},
   "outputs": [],
   "source": [
    "def invert_str(string): # step 0\n",
    "    stack = Stack() #step 1\n",
    "    for char in string:# step\n",
    "        stack.push(char)# 2\n",
    "    out = \"\" # step 3\n",
    "    while not stack.is_empty(): #step...\n",
    "        out += stack.pop() #...4\n",
    "    return out   #step 5\n",
    "    "
   ]
  },
  {
   "cell_type": "code",
   "execution_count": 5,
   "id": "68d9ced9-2aa1-4289-ad7c-f4b66cf8966a",
   "metadata": {},
   "outputs": [
    {
     "data": {
      "text/plain": [
       "'anitsirhc'"
      ]
     },
     "execution_count": 5,
     "metadata": {},
     "output_type": "execute_result"
    }
   ],
   "source": [
    "invert_str(\"christina\")\n"
   ]
  },
  {
   "cell_type": "code",
   "execution_count": 8,
   "id": "f649d150-d4c5-4f42-b32b-2b42eeb0d95c",
   "metadata": {},
   "outputs": [],
   "source": [
    "# From scratch implemetnation of Stack\n",
    "\n",
    "class StackII:\n",
    "    class __Node: #embedded node class\n",
    "        def __init__(self, data): #recieves some data\n",
    "            self.data = data #internally keeps track \n",
    "            self.below = None # set to none, not automatically connected to anything\n",
    "    def __init__(self): #creating the refreences self.top and setting it to none (means stack is empty)\n",
    "            self.top = None\n",
    "            \n",
    "    def push(self, value):\n",
    "        new_node = self.__Node(value) #create new node and give that value parameter to the new node\n",
    "        if not self.top: #aware of we always need to validate the state of our data structure before removing data. If self.top is set to none then\n",
    "            self.top = new_node #set selft.top to the new node\n",
    "        else:\n",
    "            old_top = self.top #our stack is not empty, then create a old top reference\n",
    "            new_node.below = old_top# new node.below to what old top is\n",
    "            self.top = new_node # update the reference self.top to new node\n",
    "            \n",
    "    def pop(self): #\n",
    "        if self.top: #if self.top is set to none, then\n",
    "            datum = self.top.data # datum is just a variable (a unit of data) is set to self.top\n",
    "            self.top = self.top.below # emptys the stack, puts self.top to none\n",
    "            return datum #exiting condition\n",
    "        raise IndexError(\"Stack is empty\")# stack traces are born, will print on terminal \"stack is empty\"\n",
    " \n",
    "    # Nice to have methods (boilerplates)\n",
    "    def peek(self):# returns the \"top\" value of the stack\n",
    "        return self.top.data \n",
    "               #the peek op shows you the data point on the top most node w/o removing from stack\n",
    "        \n",
    "    def size(self):# counts the number of nodes in the stack\n",
    "        count = 0 # Sets the count to 0\n",
    "        data = self.top # variable to represent self.top (top layer)\n",
    "        while data: # counts the data in a loop\n",
    "            count += 1 # adds a if data present\n",
    "            data = data.below # moves the node down\n",
    "        return count\n",
    "        \n",
    "         \n",
    "    def is_empty(self):# this is easy(can be done in as little as 1 line of code\n",
    "        return self.top is None\n",
    "\n",
    "      \n",
    "            "
   ]
  },
  {
   "cell_type": "code",
   "execution_count": null,
   "id": "3b60eb74-87bb-4fa7-b2d4-6d289c8178fd",
   "metadata": {},
   "outputs": [],
   "source": [
    "stack = StackII()\n",
    "\n",
    "stack.push(\"hello\")\n",
    "stack.push(\"world\")\n",
    "out = stack.size()\n",
    "\n",
    "print(out)"
   ]
  },
  {
   "cell_type": "code",
   "execution_count": 9,
   "id": "065b8f00-c913-44b1-a62f-ef597aba651c",
   "metadata": {},
   "outputs": [
    {
     "name": "stdout",
     "output_type": "stream",
     "text": [
      "hello\n"
     ]
    }
   ],
   "source": [
    "stack = StackII()\n",
    "\n",
    "stack.push(\"hello\")\n",
    "\n",
    "out = stack.peek()\n",
    "\n",
    "print(out)"
   ]
  },
  {
   "cell_type": "code",
   "execution_count": 10,
   "id": "0f0bcecf-775a-4177-9d76-02928d9bc249",
   "metadata": {},
   "outputs": [
    {
     "name": "stdout",
     "output_type": "stream",
     "text": [
      "False\n"
     ]
    }
   ],
   "source": [
    "stack = StackII()\n",
    "stack.push(\"Hello\")\n",
    "\n",
    "\n",
    "out = stack.is_empty()\n",
    "\n",
    "print(out)"
   ]
  },
  {
   "cell_type": "code",
   "execution_count": null,
   "id": "4deb58e7-be0f-4ffe-b7b9-c73b32c1ea6d",
   "metadata": {},
   "outputs": [],
   "source": []
  },
  {
   "cell_type": "code",
   "execution_count": 9,
   "id": "37e1ab92-f139-4f77-a2d6-0042969609a2",
   "metadata": {},
   "outputs": [],
   "source": [
    "# Simplified implementation of Que (relying on built-ins)\n",
    "\n",
    "class Queue:\n",
    "    def __init__(self):\n",
    "        self.items =[]\n",
    "    def enqueue(self, value):\n",
    "        self.items.insert(0, value)\n",
    "\n",
    "    def dequeue(self):\n",
    "        return self.items.pop()\n",
    "\n",
    "    #Nice to have methods\n",
    "    def peek (self):\n",
    "        return self.items [len(self.items)-1]\n",
    "\n",
    "    def size(self):\n",
    "        return len(self.items)\n",
    "\n",
    "    def is_empty(self):\n",
    "        return self.items ==[]\n"
   ]
  },
  {
   "cell_type": "markdown",
   "id": "fe9fb3b4-8fd0-4d3f-8c30-eb14f739d74d",
   "metadata": {},
   "source": [
    "# Problem 2\n",
    "\n",
    "## From scratch implentation of Queue\n",
    "Generate a class called QueueII which does not rely on built-ins yet represents the operations requried to qualify as a queue\n",
    "(considering the ordering principle which is FIFO--First in, first out).\n",
    "\n",
    "## Acceptance Criteira\n",
    "1. you must have enqueue method, which adds new elemnts to the back or rear of the queue.\n",
    "2. You must have a dequeue method, which removes and returns elements from the front of the queue.\n",
    "\n",
    "### Bounus\n",
    "mplement all the \"nice th ahve\"methods on QueueII and validate them by testing manually."
   ]
  },
  {
   "cell_type": "code",
   "execution_count": 1,
   "id": "f27d2a6a-db9f-4f12-b8bf-a69278f7dd3c",
   "metadata": {},
   "outputs": [],
   "source": [
    "# From scratch implementation of Queue (no built-ins)\n",
    "#Boilerplate\n",
    "\n",
    "class QueueII:\n",
    "    class __Node: # embeded node class\n",
    "        def __init__(self, data): # recieves some data\n",
    "            self.data = data # internally keeps track\n",
    "            self.next = None # set to none, not automatically connected to anything\n",
    "\n",
    "    def __init__(self):\n",
    "        self.rear = None #sets rear to none\n",
    "        self.front = None #sets front to none\n",
    "            \n",
    "    def enqueue(self, value):\n",
    "        new_node = self.__Node(value)#create new node and give that value parameter to the new node\n",
    "        if not self.rear: #validate the state of our data structure before removing data. If self.rear is set to none then\n",
    "            self.rear = new_node #set self.rear to the new node\n",
    "            self.front = new_node\n",
    "        else:\n",
    "            self.rear.next = new_node# update the reference self.rear.next to new node\n",
    "            self.rear = new_node # sets the self.rear to the new_node\n",
    "            \n",
    "    def dequeue(self):\n",
    "         new_node = self.__Node(value)#create new node and give that value parameter to the new node\n",
    "         if not self.front:#validate the state of our data structure before removing data. If self.rear is set to none then\n",
    "            self.front = new_node #set self.rear to the new node\n",
    "            self.rear = new_node\n",
    "        else:\n",
    "            self.front.next = new_node# update the reference self.top to new node\n",
    "            self.front = new_node #sets self.front to the new node\n",
    "        \n",
    "        "
   ]
  },
  {
   "cell_type": "code",
   "execution_count": null,
   "id": "a6f5fa4a-f548-4975-aa11-5621c3b684e1",
   "metadata": {},
   "outputs": [],
   "source": []
  }
 ],
 "metadata": {
  "kernelspec": {
   "display_name": "Python 3 (ipykernel)",
   "language": "python",
   "name": "python3"
  },
  "language_info": {
   "codemirror_mode": {
    "name": "ipython",
    "version": 3
   },
   "file_extension": ".py",
   "mimetype": "text/x-python",
   "name": "python",
   "nbconvert_exporter": "python",
   "pygments_lexer": "ipython3",
   "version": "3.10.12"
  }
 },
 "nbformat": 4,
 "nbformat_minor": 5
}
